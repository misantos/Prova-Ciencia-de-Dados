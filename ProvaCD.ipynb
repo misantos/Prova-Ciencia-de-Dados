{
  "nbformat": 4,
  "nbformat_minor": 0,
  "metadata": {
    "colab": {
      "provenance": [],
      "collapsed_sections": [],
      "toc_visible": true
    },
    "kernelspec": {
      "name": "python3",
      "display_name": "Python 3"
    },
    "language_info": {
      "name": "python"
    }
  },
  "cells": [
    {
      "cell_type": "markdown",
      "metadata": {
        "id": "FsLPKR8pAvAS"
      },
      "source": [
        "# Prova de Ciência de Dados - Grupo D3"
      ]
    },
    {
      "cell_type": "markdown",
      "metadata": {
        "id": "Ywo8zvXFAyiy"
      },
      "source": [
        "Alunas:\n",
        "\n",
        "*   Milena Lucas dos Santos\n",
        "*   Raianny Proença de C. Oliveira\n",
        "*   Vivian Miwa Fugihara\n"
      ]
    },
    {
      "cell_type": "markdown",
      "metadata": {
        "id": "yXSv5XupAtzz"
      },
      "source": [
        "# 1. Sobre o Dataset"
      ]
    },
    {
      "cell_type": "markdown",
      "metadata": {
        "id": "NZedV-g1BFiy"
      },
      "source": [
        "O dataset escolhido é sobre câncer de mama, obtido dos Hospitais da Universidade de Wisconsin, e disponibilizado no link https://www.openml.org/d/15. Os atributos foram computados a partir de uma imagem digitalizada de um fine needle aspirate (FNA) de uma massa mamária. Eles descrevem as características dos núcleos celulares presentes na imagem. \n",
        "\n",
        "O conjunto de dados possui 10 atributos (features), sendo um deles a classe (target) do tipo nominal com dois valores: **belign** e **malignant**, que indica se a massa é beligna ou maligna. Há 699 linhas.\n",
        "\n",
        "Os demais atributos, todos do tipo numérico, são:\n",
        "*   **Clump thickness** (grossura da massa aglomerada);\n",
        "*   **Cell size uniformity** (uniformidade do tamanho da célula);\n",
        "*   **Cell shape uniformity** (uniformidade do formato da célula);\n",
        "*   **Marginal adhesion** (adesão marginal): As células normais tendem a se unir. As células cancerosas tendem a perder essa capacidade. A perda de adesão é um sinal de malignidade;\n",
        "*   **Single epi cell size** (tamanho de uma única célula epitelial): Está relacionado com a uniformidade mencionada acima. As células epiteliais que estão significativamente aumentadas podem ser uma célula maligna;\n",
        "*   **Bare nuclei**: Este é um termo usado para núcleos que não são circundados por citoplasma (o resto da célula). Esses são normalmente vistos em tumores benignos;\n",
        "*   **Bland chromatin** (cromatina suave): Descreve uma “textura” uniforme do núcleo observada em células benignas. Em células cancerosas, a cromatina tende a ser mais grosseira;\n",
        "*   **Normal nucleoli** (nucleólos normais): Os nucléolos são pedaços redondos de material genético encontrados em uma parte da célula chamada núcleo. Eles produzem os produtos químicos que as células usam para fazer proteínas.\n",
        "Os nucléolos grandes são muito comuns em alguns tipos de câncer e os patologistas costumam usá-los como evidência de que uma célula pode ser cancerosa. No entanto, algumas células normais e saudáveis ​​também têm nucléolos grandes, de modo que o contexto em que essas estruturas são vistas é importante para fazer o diagnóstico correto;\n",
        "*   **Mitoses**: Medida de quão rápido as células cancerosas estão se dividindo e crescendo. Para encontrar a taxa mitótica, é contado o número de células que se dividem em uma certa quantidade de tecido canceroso. A taxa mitótica é usada para ajudar a encontrar o estágio do melanoma (um tipo de câncer de pele) e outros tipos de câncer.\n",
        "\n"
      ]
    },
    {
      "cell_type": "markdown",
      "metadata": {
        "id": "Y3365shQx06o"
      },
      "source": [
        "# Implementação"
      ]
    },
    {
      "cell_type": "markdown",
      "metadata": {
        "id": "jNZ-BURlOi3b"
      },
      "source": [
        "## Imports"
      ]
    },
    {
      "cell_type": "code",
      "metadata": {
        "id": "hgHzz71AEsa4"
      },
      "source": [
        "import pandas as pd\n",
        "import numpy as np\n",
        "import sklearn\n",
        "from sklearn import datasets\n",
        "from sklearn.model_selection import train_test_split\n",
        "from sklearn.neighbors import KNeighborsClassifier \n",
        "from sklearn.metrics import accuracy_score\n",
        "from sklearn.decomposition import PCA\n",
        "import matplotlib.pyplot as plt\n",
        "from imblearn.under_sampling import ClusterCentroids\n",
        "from sklearn.model_selection import cross_validate\n",
        "from sklearn.model_selection import cross_val_score"
      ],
      "execution_count": null,
      "outputs": []
    },
    {
      "cell_type": "code",
      "metadata": {
        "colab": {
          "base_uri": "https://localhost:8080/"
        },
        "id": "DwSZaOyGHYJP",
        "outputId": "3c6209e0-456c-4bfe-f392-05079e0fca91"
      },
      "source": [
        "from google.colab import drive\n",
        "drive.mount('/content/drive')"
      ],
      "execution_count": null,
      "outputs": [
        {
          "output_type": "stream",
          "text": [
            "Drive already mounted at /content/drive; to attempt to forcibly remount, call drive.mount(\"/content/drive\", force_remount=True).\n"
          ],
          "name": "stdout"
        }
      ]
    },
    {
      "cell_type": "code",
      "metadata": {
        "colab": {
          "base_uri": "https://localhost:8080/",
          "height": 439
        },
        "id": "PSGi6rxgBCe6",
        "outputId": "f0b265b6-4bc2-429d-c770-c962f713bd89"
      },
      "source": [
        "dataset = pd.read_csv('/content/drive/MyDrive/ProvaCD/dataset_breast_cancer.csv')\n",
        "#dataset = pd.read_csv('dataset_breast_cancer.csv')\n",
        "dataset"
      ],
      "execution_count": null,
      "outputs": [
        {
          "output_type": "execute_result",
          "data": {
            "text/html": [
              "<div>\n",
              "<style scoped>\n",
              "    .dataframe tbody tr th:only-of-type {\n",
              "        vertical-align: middle;\n",
              "    }\n",
              "\n",
              "    .dataframe tbody tr th {\n",
              "        vertical-align: top;\n",
              "    }\n",
              "\n",
              "    .dataframe thead th {\n",
              "        text-align: right;\n",
              "    }\n",
              "</style>\n",
              "<table border=\"1\" class=\"dataframe\">\n",
              "  <thead>\n",
              "    <tr style=\"text-align: right;\">\n",
              "      <th></th>\n",
              "      <th>Clump_Thickness</th>\n",
              "      <th>Cell_Size_Uniformity</th>\n",
              "      <th>Cell_Shape_Uniformity</th>\n",
              "      <th>Marginal_Adhesion</th>\n",
              "      <th>Single_Epi_Cell_Size</th>\n",
              "      <th>Bare_Nuclei</th>\n",
              "      <th>Bland_Chromatin</th>\n",
              "      <th>Normal_Nucleoli</th>\n",
              "      <th>Mitoses</th>\n",
              "      <th>Class</th>\n",
              "    </tr>\n",
              "  </thead>\n",
              "  <tbody>\n",
              "    <tr>\n",
              "      <th>0</th>\n",
              "      <td>5</td>\n",
              "      <td>1</td>\n",
              "      <td>1</td>\n",
              "      <td>1</td>\n",
              "      <td>2</td>\n",
              "      <td>1</td>\n",
              "      <td>3</td>\n",
              "      <td>1</td>\n",
              "      <td>1</td>\n",
              "      <td>benign</td>\n",
              "    </tr>\n",
              "    <tr>\n",
              "      <th>1</th>\n",
              "      <td>5</td>\n",
              "      <td>4</td>\n",
              "      <td>4</td>\n",
              "      <td>5</td>\n",
              "      <td>7</td>\n",
              "      <td>10</td>\n",
              "      <td>3</td>\n",
              "      <td>2</td>\n",
              "      <td>1</td>\n",
              "      <td>benign</td>\n",
              "    </tr>\n",
              "    <tr>\n",
              "      <th>2</th>\n",
              "      <td>3</td>\n",
              "      <td>1</td>\n",
              "      <td>1</td>\n",
              "      <td>1</td>\n",
              "      <td>2</td>\n",
              "      <td>2</td>\n",
              "      <td>3</td>\n",
              "      <td>1</td>\n",
              "      <td>1</td>\n",
              "      <td>benign</td>\n",
              "    </tr>\n",
              "    <tr>\n",
              "      <th>3</th>\n",
              "      <td>6</td>\n",
              "      <td>8</td>\n",
              "      <td>8</td>\n",
              "      <td>1</td>\n",
              "      <td>3</td>\n",
              "      <td>4</td>\n",
              "      <td>3</td>\n",
              "      <td>7</td>\n",
              "      <td>1</td>\n",
              "      <td>benign</td>\n",
              "    </tr>\n",
              "    <tr>\n",
              "      <th>4</th>\n",
              "      <td>4</td>\n",
              "      <td>1</td>\n",
              "      <td>1</td>\n",
              "      <td>3</td>\n",
              "      <td>2</td>\n",
              "      <td>1</td>\n",
              "      <td>3</td>\n",
              "      <td>1</td>\n",
              "      <td>1</td>\n",
              "      <td>benign</td>\n",
              "    </tr>\n",
              "    <tr>\n",
              "      <th>...</th>\n",
              "      <td>...</td>\n",
              "      <td>...</td>\n",
              "      <td>...</td>\n",
              "      <td>...</td>\n",
              "      <td>...</td>\n",
              "      <td>...</td>\n",
              "      <td>...</td>\n",
              "      <td>...</td>\n",
              "      <td>...</td>\n",
              "      <td>...</td>\n",
              "    </tr>\n",
              "    <tr>\n",
              "      <th>694</th>\n",
              "      <td>3</td>\n",
              "      <td>1</td>\n",
              "      <td>1</td>\n",
              "      <td>1</td>\n",
              "      <td>3</td>\n",
              "      <td>2</td>\n",
              "      <td>1</td>\n",
              "      <td>1</td>\n",
              "      <td>1</td>\n",
              "      <td>benign</td>\n",
              "    </tr>\n",
              "    <tr>\n",
              "      <th>695</th>\n",
              "      <td>2</td>\n",
              "      <td>1</td>\n",
              "      <td>1</td>\n",
              "      <td>1</td>\n",
              "      <td>2</td>\n",
              "      <td>1</td>\n",
              "      <td>1</td>\n",
              "      <td>1</td>\n",
              "      <td>1</td>\n",
              "      <td>benign</td>\n",
              "    </tr>\n",
              "    <tr>\n",
              "      <th>696</th>\n",
              "      <td>5</td>\n",
              "      <td>10</td>\n",
              "      <td>10</td>\n",
              "      <td>3</td>\n",
              "      <td>7</td>\n",
              "      <td>3</td>\n",
              "      <td>8</td>\n",
              "      <td>10</td>\n",
              "      <td>2</td>\n",
              "      <td>malignant</td>\n",
              "    </tr>\n",
              "    <tr>\n",
              "      <th>697</th>\n",
              "      <td>4</td>\n",
              "      <td>8</td>\n",
              "      <td>6</td>\n",
              "      <td>4</td>\n",
              "      <td>3</td>\n",
              "      <td>4</td>\n",
              "      <td>10</td>\n",
              "      <td>6</td>\n",
              "      <td>1</td>\n",
              "      <td>malignant</td>\n",
              "    </tr>\n",
              "    <tr>\n",
              "      <th>698</th>\n",
              "      <td>4</td>\n",
              "      <td>8</td>\n",
              "      <td>8</td>\n",
              "      <td>5</td>\n",
              "      <td>4</td>\n",
              "      <td>5</td>\n",
              "      <td>10</td>\n",
              "      <td>4</td>\n",
              "      <td>1</td>\n",
              "      <td>malignant</td>\n",
              "    </tr>\n",
              "  </tbody>\n",
              "</table>\n",
              "<p>699 rows × 10 columns</p>\n",
              "</div>"
            ],
            "text/plain": [
              "     Clump_Thickness  Cell_Size_Uniformity  ...  Mitoses      Class\n",
              "0                  5                     1  ...        1     benign\n",
              "1                  5                     4  ...        1     benign\n",
              "2                  3                     1  ...        1     benign\n",
              "3                  6                     8  ...        1     benign\n",
              "4                  4                     1  ...        1     benign\n",
              "..               ...                   ...  ...      ...        ...\n",
              "694                3                     1  ...        1     benign\n",
              "695                2                     1  ...        1     benign\n",
              "696                5                    10  ...        2  malignant\n",
              "697                4                     8  ...        1  malignant\n",
              "698                4                     8  ...        1  malignant\n",
              "\n",
              "[699 rows x 10 columns]"
            ]
          },
          "metadata": {
            "tags": []
          },
          "execution_count": 85
        }
      ]
    },
    {
      "cell_type": "markdown",
      "metadata": {
        "id": "Er0S5T0Prw_1"
      },
      "source": [
        "## Tratamento dos dados"
      ]
    },
    {
      "cell_type": "markdown",
      "metadata": {
        "id": "HpzDfM2QTfbf"
      },
      "source": [
        "### Convertendo o tipo da classe para int: 0 e 1"
      ]
    },
    {
      "cell_type": "code",
      "metadata": {
        "colab": {
          "base_uri": "https://localhost:8080/",
          "height": 439
        },
        "id": "6RA_f4eKSijD",
        "outputId": "5b1d36cd-94e3-4e9a-c483-36966f153847"
      },
      "source": [
        "# substituindo beligno por 0 e maligno por 1\n",
        "new_values = {'benign': 0, 'malignant': 1}\n",
        "dataset['Class'] = dataset['Class'].map(new_values)\n",
        "dataset"
      ],
      "execution_count": null,
      "outputs": [
        {
          "output_type": "execute_result",
          "data": {
            "text/html": [
              "<div>\n",
              "<style scoped>\n",
              "    .dataframe tbody tr th:only-of-type {\n",
              "        vertical-align: middle;\n",
              "    }\n",
              "\n",
              "    .dataframe tbody tr th {\n",
              "        vertical-align: top;\n",
              "    }\n",
              "\n",
              "    .dataframe thead th {\n",
              "        text-align: right;\n",
              "    }\n",
              "</style>\n",
              "<table border=\"1\" class=\"dataframe\">\n",
              "  <thead>\n",
              "    <tr style=\"text-align: right;\">\n",
              "      <th></th>\n",
              "      <th>Clump_Thickness</th>\n",
              "      <th>Cell_Size_Uniformity</th>\n",
              "      <th>Cell_Shape_Uniformity</th>\n",
              "      <th>Marginal_Adhesion</th>\n",
              "      <th>Single_Epi_Cell_Size</th>\n",
              "      <th>Bare_Nuclei</th>\n",
              "      <th>Bland_Chromatin</th>\n",
              "      <th>Normal_Nucleoli</th>\n",
              "      <th>Mitoses</th>\n",
              "      <th>Class</th>\n",
              "    </tr>\n",
              "  </thead>\n",
              "  <tbody>\n",
              "    <tr>\n",
              "      <th>0</th>\n",
              "      <td>5</td>\n",
              "      <td>1</td>\n",
              "      <td>1</td>\n",
              "      <td>1</td>\n",
              "      <td>2</td>\n",
              "      <td>1</td>\n",
              "      <td>3</td>\n",
              "      <td>1</td>\n",
              "      <td>1</td>\n",
              "      <td>0</td>\n",
              "    </tr>\n",
              "    <tr>\n",
              "      <th>1</th>\n",
              "      <td>5</td>\n",
              "      <td>4</td>\n",
              "      <td>4</td>\n",
              "      <td>5</td>\n",
              "      <td>7</td>\n",
              "      <td>10</td>\n",
              "      <td>3</td>\n",
              "      <td>2</td>\n",
              "      <td>1</td>\n",
              "      <td>0</td>\n",
              "    </tr>\n",
              "    <tr>\n",
              "      <th>2</th>\n",
              "      <td>3</td>\n",
              "      <td>1</td>\n",
              "      <td>1</td>\n",
              "      <td>1</td>\n",
              "      <td>2</td>\n",
              "      <td>2</td>\n",
              "      <td>3</td>\n",
              "      <td>1</td>\n",
              "      <td>1</td>\n",
              "      <td>0</td>\n",
              "    </tr>\n",
              "    <tr>\n",
              "      <th>3</th>\n",
              "      <td>6</td>\n",
              "      <td>8</td>\n",
              "      <td>8</td>\n",
              "      <td>1</td>\n",
              "      <td>3</td>\n",
              "      <td>4</td>\n",
              "      <td>3</td>\n",
              "      <td>7</td>\n",
              "      <td>1</td>\n",
              "      <td>0</td>\n",
              "    </tr>\n",
              "    <tr>\n",
              "      <th>4</th>\n",
              "      <td>4</td>\n",
              "      <td>1</td>\n",
              "      <td>1</td>\n",
              "      <td>3</td>\n",
              "      <td>2</td>\n",
              "      <td>1</td>\n",
              "      <td>3</td>\n",
              "      <td>1</td>\n",
              "      <td>1</td>\n",
              "      <td>0</td>\n",
              "    </tr>\n",
              "    <tr>\n",
              "      <th>...</th>\n",
              "      <td>...</td>\n",
              "      <td>...</td>\n",
              "      <td>...</td>\n",
              "      <td>...</td>\n",
              "      <td>...</td>\n",
              "      <td>...</td>\n",
              "      <td>...</td>\n",
              "      <td>...</td>\n",
              "      <td>...</td>\n",
              "      <td>...</td>\n",
              "    </tr>\n",
              "    <tr>\n",
              "      <th>694</th>\n",
              "      <td>3</td>\n",
              "      <td>1</td>\n",
              "      <td>1</td>\n",
              "      <td>1</td>\n",
              "      <td>3</td>\n",
              "      <td>2</td>\n",
              "      <td>1</td>\n",
              "      <td>1</td>\n",
              "      <td>1</td>\n",
              "      <td>0</td>\n",
              "    </tr>\n",
              "    <tr>\n",
              "      <th>695</th>\n",
              "      <td>2</td>\n",
              "      <td>1</td>\n",
              "      <td>1</td>\n",
              "      <td>1</td>\n",
              "      <td>2</td>\n",
              "      <td>1</td>\n",
              "      <td>1</td>\n",
              "      <td>1</td>\n",
              "      <td>1</td>\n",
              "      <td>0</td>\n",
              "    </tr>\n",
              "    <tr>\n",
              "      <th>696</th>\n",
              "      <td>5</td>\n",
              "      <td>10</td>\n",
              "      <td>10</td>\n",
              "      <td>3</td>\n",
              "      <td>7</td>\n",
              "      <td>3</td>\n",
              "      <td>8</td>\n",
              "      <td>10</td>\n",
              "      <td>2</td>\n",
              "      <td>1</td>\n",
              "    </tr>\n",
              "    <tr>\n",
              "      <th>697</th>\n",
              "      <td>4</td>\n",
              "      <td>8</td>\n",
              "      <td>6</td>\n",
              "      <td>4</td>\n",
              "      <td>3</td>\n",
              "      <td>4</td>\n",
              "      <td>10</td>\n",
              "      <td>6</td>\n",
              "      <td>1</td>\n",
              "      <td>1</td>\n",
              "    </tr>\n",
              "    <tr>\n",
              "      <th>698</th>\n",
              "      <td>4</td>\n",
              "      <td>8</td>\n",
              "      <td>8</td>\n",
              "      <td>5</td>\n",
              "      <td>4</td>\n",
              "      <td>5</td>\n",
              "      <td>10</td>\n",
              "      <td>4</td>\n",
              "      <td>1</td>\n",
              "      <td>1</td>\n",
              "    </tr>\n",
              "  </tbody>\n",
              "</table>\n",
              "<p>699 rows × 10 columns</p>\n",
              "</div>"
            ],
            "text/plain": [
              "     Clump_Thickness  Cell_Size_Uniformity  ...  Mitoses  Class\n",
              "0                  5                     1  ...        1      0\n",
              "1                  5                     4  ...        1      0\n",
              "2                  3                     1  ...        1      0\n",
              "3                  6                     8  ...        1      0\n",
              "4                  4                     1  ...        1      0\n",
              "..               ...                   ...  ...      ...    ...\n",
              "694                3                     1  ...        1      0\n",
              "695                2                     1  ...        1      0\n",
              "696                5                    10  ...        2      1\n",
              "697                4                     8  ...        1      1\n",
              "698                4                     8  ...        1      1\n",
              "\n",
              "[699 rows x 10 columns]"
            ]
          },
          "metadata": {
            "tags": []
          },
          "execution_count": 86
        }
      ]
    },
    {
      "cell_type": "markdown",
      "metadata": {
        "id": "qCgEnWuGaDHt"
      },
      "source": [
        "### Substituindo valores desconhecidos representados por \"?\""
      ]
    },
    {
      "cell_type": "markdown",
      "metadata": {
        "id": "fPWBR24PaV2g"
      },
      "source": [
        "Notamos que o dataset continha valores desconhecidos representados por \"?\", na coluna \"Bare Nuclei\". Desse modo, optamos por substituir os valores \"?\" pela média de todos os valores da coluna."
      ]
    },
    {
      "cell_type": "code",
      "metadata": {
        "colab": {
          "base_uri": "https://localhost:8080/"
        },
        "id": "I4OA1ZX9aO19",
        "outputId": "5c1ccb56-f446-48ad-f4c4-aafebf34a784"
      },
      "source": [
        "dataset['Bare_Nuclei'].head(25)"
      ],
      "execution_count": null,
      "outputs": [
        {
          "output_type": "execute_result",
          "data": {
            "text/plain": [
              "0      1\n",
              "1     10\n",
              "2      2\n",
              "3      4\n",
              "4      1\n",
              "5     10\n",
              "6     10\n",
              "7      1\n",
              "8      1\n",
              "9      1\n",
              "10     1\n",
              "11     1\n",
              "12     3\n",
              "13     3\n",
              "14     9\n",
              "15     1\n",
              "16     1\n",
              "17     1\n",
              "18    10\n",
              "19     1\n",
              "20    10\n",
              "21     7\n",
              "22     1\n",
              "23     ?\n",
              "24     1\n",
              "Name: Bare_Nuclei, dtype: object"
            ]
          },
          "metadata": {
            "tags": []
          },
          "execution_count": 87
        }
      ]
    },
    {
      "cell_type": "markdown",
      "metadata": {
        "id": "TRg7N3-vc-Fk"
      },
      "source": [
        "Para isso, foi necessário primeiramente converter o tipo do atributo \"object\" para float."
      ]
    },
    {
      "cell_type": "code",
      "metadata": {
        "id": "7Nf0p0kbVsvZ"
      },
      "source": [
        "# convertendo object para float\n",
        "dataset['Bare_Nuclei'] = pd.to_numeric(dataset['Bare_Nuclei'],errors = 'coerce')"
      ],
      "execution_count": null,
      "outputs": []
    },
    {
      "cell_type": "code",
      "metadata": {
        "colab": {
          "base_uri": "https://localhost:8080/"
        },
        "id": "V5u-FUZjb9M4",
        "outputId": "74846a91-4e16-4d7c-fdd5-b2b5894b5d3a"
      },
      "source": [
        "# obtendo a média dos valores da coluna\n",
        "dataset['Bare_Nuclei'].mean()"
      ],
      "execution_count": null,
      "outputs": [
        {
          "output_type": "execute_result",
          "data": {
            "text/plain": [
              "3.5446559297218156"
            ]
          },
          "metadata": {
            "tags": []
          },
          "execution_count": 89
        }
      ]
    },
    {
      "cell_type": "code",
      "metadata": {
        "colab": {
          "base_uri": "https://localhost:8080/",
          "height": 565
        },
        "id": "_iJ9wh30mfBr",
        "outputId": "8d377107-c954-4cb5-ac85-8cdf6449d38d"
      },
      "source": [
        "# mostrando apenas as linhas que tem o bare nuclei como desconhecido\n",
        "dataset[(dataset['Bare_Nuclei'] != 0) & (dataset['Bare_Nuclei'] != 1) & (dataset['Bare_Nuclei'] != 2) & (dataset['Bare_Nuclei'] != 3) & (dataset['Bare_Nuclei'] != 4) &\n",
        "        (dataset['Bare_Nuclei'] != 5) & (dataset['Bare_Nuclei'] != 6) & (dataset['Bare_Nuclei'] != 7) & (dataset['Bare_Nuclei'] != 8) & (dataset['Bare_Nuclei'] != 9) & (dataset['Bare_Nuclei'] != 10)]"
      ],
      "execution_count": null,
      "outputs": [
        {
          "output_type": "execute_result",
          "data": {
            "text/html": [
              "<div>\n",
              "<style scoped>\n",
              "    .dataframe tbody tr th:only-of-type {\n",
              "        vertical-align: middle;\n",
              "    }\n",
              "\n",
              "    .dataframe tbody tr th {\n",
              "        vertical-align: top;\n",
              "    }\n",
              "\n",
              "    .dataframe thead th {\n",
              "        text-align: right;\n",
              "    }\n",
              "</style>\n",
              "<table border=\"1\" class=\"dataframe\">\n",
              "  <thead>\n",
              "    <tr style=\"text-align: right;\">\n",
              "      <th></th>\n",
              "      <th>Clump_Thickness</th>\n",
              "      <th>Cell_Size_Uniformity</th>\n",
              "      <th>Cell_Shape_Uniformity</th>\n",
              "      <th>Marginal_Adhesion</th>\n",
              "      <th>Single_Epi_Cell_Size</th>\n",
              "      <th>Bare_Nuclei</th>\n",
              "      <th>Bland_Chromatin</th>\n",
              "      <th>Normal_Nucleoli</th>\n",
              "      <th>Mitoses</th>\n",
              "      <th>Class</th>\n",
              "    </tr>\n",
              "  </thead>\n",
              "  <tbody>\n",
              "    <tr>\n",
              "      <th>23</th>\n",
              "      <td>8</td>\n",
              "      <td>4</td>\n",
              "      <td>5</td>\n",
              "      <td>1</td>\n",
              "      <td>2</td>\n",
              "      <td>NaN</td>\n",
              "      <td>7</td>\n",
              "      <td>3</td>\n",
              "      <td>1</td>\n",
              "      <td>1</td>\n",
              "    </tr>\n",
              "    <tr>\n",
              "      <th>40</th>\n",
              "      <td>6</td>\n",
              "      <td>6</td>\n",
              "      <td>6</td>\n",
              "      <td>9</td>\n",
              "      <td>6</td>\n",
              "      <td>NaN</td>\n",
              "      <td>7</td>\n",
              "      <td>8</td>\n",
              "      <td>1</td>\n",
              "      <td>0</td>\n",
              "    </tr>\n",
              "    <tr>\n",
              "      <th>139</th>\n",
              "      <td>1</td>\n",
              "      <td>1</td>\n",
              "      <td>1</td>\n",
              "      <td>1</td>\n",
              "      <td>1</td>\n",
              "      <td>NaN</td>\n",
              "      <td>2</td>\n",
              "      <td>1</td>\n",
              "      <td>1</td>\n",
              "      <td>0</td>\n",
              "    </tr>\n",
              "    <tr>\n",
              "      <th>145</th>\n",
              "      <td>1</td>\n",
              "      <td>1</td>\n",
              "      <td>3</td>\n",
              "      <td>1</td>\n",
              "      <td>2</td>\n",
              "      <td>NaN</td>\n",
              "      <td>2</td>\n",
              "      <td>1</td>\n",
              "      <td>1</td>\n",
              "      <td>0</td>\n",
              "    </tr>\n",
              "    <tr>\n",
              "      <th>158</th>\n",
              "      <td>1</td>\n",
              "      <td>1</td>\n",
              "      <td>2</td>\n",
              "      <td>1</td>\n",
              "      <td>3</td>\n",
              "      <td>NaN</td>\n",
              "      <td>1</td>\n",
              "      <td>1</td>\n",
              "      <td>1</td>\n",
              "      <td>0</td>\n",
              "    </tr>\n",
              "    <tr>\n",
              "      <th>164</th>\n",
              "      <td>5</td>\n",
              "      <td>1</td>\n",
              "      <td>1</td>\n",
              "      <td>1</td>\n",
              "      <td>2</td>\n",
              "      <td>NaN</td>\n",
              "      <td>3</td>\n",
              "      <td>1</td>\n",
              "      <td>1</td>\n",
              "      <td>0</td>\n",
              "    </tr>\n",
              "    <tr>\n",
              "      <th>235</th>\n",
              "      <td>3</td>\n",
              "      <td>1</td>\n",
              "      <td>4</td>\n",
              "      <td>1</td>\n",
              "      <td>2</td>\n",
              "      <td>NaN</td>\n",
              "      <td>3</td>\n",
              "      <td>1</td>\n",
              "      <td>1</td>\n",
              "      <td>0</td>\n",
              "    </tr>\n",
              "    <tr>\n",
              "      <th>249</th>\n",
              "      <td>3</td>\n",
              "      <td>1</td>\n",
              "      <td>1</td>\n",
              "      <td>1</td>\n",
              "      <td>2</td>\n",
              "      <td>NaN</td>\n",
              "      <td>3</td>\n",
              "      <td>1</td>\n",
              "      <td>1</td>\n",
              "      <td>0</td>\n",
              "    </tr>\n",
              "    <tr>\n",
              "      <th>275</th>\n",
              "      <td>3</td>\n",
              "      <td>1</td>\n",
              "      <td>3</td>\n",
              "      <td>1</td>\n",
              "      <td>2</td>\n",
              "      <td>NaN</td>\n",
              "      <td>2</td>\n",
              "      <td>1</td>\n",
              "      <td>1</td>\n",
              "      <td>0</td>\n",
              "    </tr>\n",
              "    <tr>\n",
              "      <th>292</th>\n",
              "      <td>8</td>\n",
              "      <td>8</td>\n",
              "      <td>8</td>\n",
              "      <td>1</td>\n",
              "      <td>2</td>\n",
              "      <td>NaN</td>\n",
              "      <td>6</td>\n",
              "      <td>10</td>\n",
              "      <td>1</td>\n",
              "      <td>1</td>\n",
              "    </tr>\n",
              "    <tr>\n",
              "      <th>294</th>\n",
              "      <td>1</td>\n",
              "      <td>1</td>\n",
              "      <td>1</td>\n",
              "      <td>1</td>\n",
              "      <td>2</td>\n",
              "      <td>NaN</td>\n",
              "      <td>2</td>\n",
              "      <td>1</td>\n",
              "      <td>1</td>\n",
              "      <td>0</td>\n",
              "    </tr>\n",
              "    <tr>\n",
              "      <th>297</th>\n",
              "      <td>5</td>\n",
              "      <td>4</td>\n",
              "      <td>3</td>\n",
              "      <td>1</td>\n",
              "      <td>2</td>\n",
              "      <td>NaN</td>\n",
              "      <td>2</td>\n",
              "      <td>3</td>\n",
              "      <td>1</td>\n",
              "      <td>0</td>\n",
              "    </tr>\n",
              "    <tr>\n",
              "      <th>315</th>\n",
              "      <td>4</td>\n",
              "      <td>6</td>\n",
              "      <td>5</td>\n",
              "      <td>6</td>\n",
              "      <td>7</td>\n",
              "      <td>NaN</td>\n",
              "      <td>4</td>\n",
              "      <td>9</td>\n",
              "      <td>1</td>\n",
              "      <td>0</td>\n",
              "    </tr>\n",
              "    <tr>\n",
              "      <th>321</th>\n",
              "      <td>3</td>\n",
              "      <td>1</td>\n",
              "      <td>1</td>\n",
              "      <td>1</td>\n",
              "      <td>2</td>\n",
              "      <td>NaN</td>\n",
              "      <td>3</td>\n",
              "      <td>1</td>\n",
              "      <td>1</td>\n",
              "      <td>0</td>\n",
              "    </tr>\n",
              "    <tr>\n",
              "      <th>411</th>\n",
              "      <td>1</td>\n",
              "      <td>1</td>\n",
              "      <td>1</td>\n",
              "      <td>1</td>\n",
              "      <td>1</td>\n",
              "      <td>NaN</td>\n",
              "      <td>2</td>\n",
              "      <td>1</td>\n",
              "      <td>1</td>\n",
              "      <td>0</td>\n",
              "    </tr>\n",
              "    <tr>\n",
              "      <th>617</th>\n",
              "      <td>1</td>\n",
              "      <td>1</td>\n",
              "      <td>1</td>\n",
              "      <td>1</td>\n",
              "      <td>1</td>\n",
              "      <td>NaN</td>\n",
              "      <td>1</td>\n",
              "      <td>1</td>\n",
              "      <td>1</td>\n",
              "      <td>0</td>\n",
              "    </tr>\n",
              "  </tbody>\n",
              "</table>\n",
              "</div>"
            ],
            "text/plain": [
              "     Clump_Thickness  Cell_Size_Uniformity  ...  Mitoses  Class\n",
              "23                 8                     4  ...        1      1\n",
              "40                 6                     6  ...        1      0\n",
              "139                1                     1  ...        1      0\n",
              "145                1                     1  ...        1      0\n",
              "158                1                     1  ...        1      0\n",
              "164                5                     1  ...        1      0\n",
              "235                3                     1  ...        1      0\n",
              "249                3                     1  ...        1      0\n",
              "275                3                     1  ...        1      0\n",
              "292                8                     8  ...        1      1\n",
              "294                1                     1  ...        1      0\n",
              "297                5                     4  ...        1      0\n",
              "315                4                     6  ...        1      0\n",
              "321                3                     1  ...        1      0\n",
              "411                1                     1  ...        1      0\n",
              "617                1                     1  ...        1      0\n",
              "\n",
              "[16 rows x 10 columns]"
            ]
          },
          "metadata": {
            "tags": []
          },
          "execution_count": 90
        }
      ]
    },
    {
      "cell_type": "markdown",
      "metadata": {
        "id": "kz2bVZG9qO83"
      },
      "source": [
        "Obs: fizemos a substituição \"na mão\", pois com a função map não estava dando certo."
      ]
    },
    {
      "cell_type": "code",
      "metadata": {
        "colab": {
          "base_uri": "https://localhost:8080/"
        },
        "id": "CTweFV4GdgcR",
        "outputId": "ee0bf38c-52d7-40c7-ba5e-2ee65acafe64"
      },
      "source": [
        "# substituindo \"?\" pela média\n",
        "dataset['Bare_Nuclei'][23]=3\n",
        "dataset['Bare_Nuclei'][40]=3\n",
        "dataset['Bare_Nuclei'][139]=3\n",
        "dataset['Bare_Nuclei'][145]=3\n",
        "dataset['Bare_Nuclei'][158]=3\n",
        "dataset['Bare_Nuclei'][164]=3\n",
        "dataset['Bare_Nuclei'][235]=3\n",
        "dataset['Bare_Nuclei'][249]=3\n",
        "dataset['Bare_Nuclei'][275]=3\n",
        "dataset['Bare_Nuclei'][292]=3\n",
        "dataset['Bare_Nuclei'][294]=3\n",
        "dataset['Bare_Nuclei'][297]=3\n",
        "dataset['Bare_Nuclei'][315]=3\n",
        "dataset['Bare_Nuclei'][321]=3\n",
        "dataset['Bare_Nuclei'][411]=3\n",
        "dataset['Bare_Nuclei'][617]=3"
      ],
      "execution_count": null,
      "outputs": [
        {
          "output_type": "stream",
          "text": [
            "/usr/local/lib/python3.7/dist-packages/ipykernel_launcher.py:2: SettingWithCopyWarning: \n",
            "A value is trying to be set on a copy of a slice from a DataFrame\n",
            "\n",
            "See the caveats in the documentation: https://pandas.pydata.org/pandas-docs/stable/user_guide/indexing.html#returning-a-view-versus-a-copy\n",
            "  \n",
            "/usr/local/lib/python3.7/dist-packages/ipykernel_launcher.py:3: SettingWithCopyWarning: \n",
            "A value is trying to be set on a copy of a slice from a DataFrame\n",
            "\n",
            "See the caveats in the documentation: https://pandas.pydata.org/pandas-docs/stable/user_guide/indexing.html#returning-a-view-versus-a-copy\n",
            "  This is separate from the ipykernel package so we can avoid doing imports until\n",
            "/usr/local/lib/python3.7/dist-packages/ipykernel_launcher.py:4: SettingWithCopyWarning: \n",
            "A value is trying to be set on a copy of a slice from a DataFrame\n",
            "\n",
            "See the caveats in the documentation: https://pandas.pydata.org/pandas-docs/stable/user_guide/indexing.html#returning-a-view-versus-a-copy\n",
            "  after removing the cwd from sys.path.\n",
            "/usr/local/lib/python3.7/dist-packages/ipykernel_launcher.py:5: SettingWithCopyWarning: \n",
            "A value is trying to be set on a copy of a slice from a DataFrame\n",
            "\n",
            "See the caveats in the documentation: https://pandas.pydata.org/pandas-docs/stable/user_guide/indexing.html#returning-a-view-versus-a-copy\n",
            "  \"\"\"\n",
            "/usr/local/lib/python3.7/dist-packages/ipykernel_launcher.py:6: SettingWithCopyWarning: \n",
            "A value is trying to be set on a copy of a slice from a DataFrame\n",
            "\n",
            "See the caveats in the documentation: https://pandas.pydata.org/pandas-docs/stable/user_guide/indexing.html#returning-a-view-versus-a-copy\n",
            "  \n",
            "/usr/local/lib/python3.7/dist-packages/ipykernel_launcher.py:7: SettingWithCopyWarning: \n",
            "A value is trying to be set on a copy of a slice from a DataFrame\n",
            "\n",
            "See the caveats in the documentation: https://pandas.pydata.org/pandas-docs/stable/user_guide/indexing.html#returning-a-view-versus-a-copy\n",
            "  import sys\n",
            "/usr/local/lib/python3.7/dist-packages/ipykernel_launcher.py:8: SettingWithCopyWarning: \n",
            "A value is trying to be set on a copy of a slice from a DataFrame\n",
            "\n",
            "See the caveats in the documentation: https://pandas.pydata.org/pandas-docs/stable/user_guide/indexing.html#returning-a-view-versus-a-copy\n",
            "  \n",
            "/usr/local/lib/python3.7/dist-packages/ipykernel_launcher.py:9: SettingWithCopyWarning: \n",
            "A value is trying to be set on a copy of a slice from a DataFrame\n",
            "\n",
            "See the caveats in the documentation: https://pandas.pydata.org/pandas-docs/stable/user_guide/indexing.html#returning-a-view-versus-a-copy\n",
            "  if __name__ == '__main__':\n",
            "/usr/local/lib/python3.7/dist-packages/ipykernel_launcher.py:10: SettingWithCopyWarning: \n",
            "A value is trying to be set on a copy of a slice from a DataFrame\n",
            "\n",
            "See the caveats in the documentation: https://pandas.pydata.org/pandas-docs/stable/user_guide/indexing.html#returning-a-view-versus-a-copy\n",
            "  # Remove the CWD from sys.path while we load stuff.\n",
            "/usr/local/lib/python3.7/dist-packages/ipykernel_launcher.py:11: SettingWithCopyWarning: \n",
            "A value is trying to be set on a copy of a slice from a DataFrame\n",
            "\n",
            "See the caveats in the documentation: https://pandas.pydata.org/pandas-docs/stable/user_guide/indexing.html#returning-a-view-versus-a-copy\n",
            "  # This is added back by InteractiveShellApp.init_path()\n",
            "/usr/local/lib/python3.7/dist-packages/ipykernel_launcher.py:12: SettingWithCopyWarning: \n",
            "A value is trying to be set on a copy of a slice from a DataFrame\n",
            "\n",
            "See the caveats in the documentation: https://pandas.pydata.org/pandas-docs/stable/user_guide/indexing.html#returning-a-view-versus-a-copy\n",
            "  if sys.path[0] == '':\n",
            "/usr/local/lib/python3.7/dist-packages/ipykernel_launcher.py:13: SettingWithCopyWarning: \n",
            "A value is trying to be set on a copy of a slice from a DataFrame\n",
            "\n",
            "See the caveats in the documentation: https://pandas.pydata.org/pandas-docs/stable/user_guide/indexing.html#returning-a-view-versus-a-copy\n",
            "  del sys.path[0]\n",
            "/usr/local/lib/python3.7/dist-packages/ipykernel_launcher.py:14: SettingWithCopyWarning: \n",
            "A value is trying to be set on a copy of a slice from a DataFrame\n",
            "\n",
            "See the caveats in the documentation: https://pandas.pydata.org/pandas-docs/stable/user_guide/indexing.html#returning-a-view-versus-a-copy\n",
            "  \n",
            "/usr/local/lib/python3.7/dist-packages/ipykernel_launcher.py:15: SettingWithCopyWarning: \n",
            "A value is trying to be set on a copy of a slice from a DataFrame\n",
            "\n",
            "See the caveats in the documentation: https://pandas.pydata.org/pandas-docs/stable/user_guide/indexing.html#returning-a-view-versus-a-copy\n",
            "  from ipykernel import kernelapp as app\n",
            "/usr/local/lib/python3.7/dist-packages/ipykernel_launcher.py:16: SettingWithCopyWarning: \n",
            "A value is trying to be set on a copy of a slice from a DataFrame\n",
            "\n",
            "See the caveats in the documentation: https://pandas.pydata.org/pandas-docs/stable/user_guide/indexing.html#returning-a-view-versus-a-copy\n",
            "  app.launch_new_instance()\n",
            "/usr/local/lib/python3.7/dist-packages/ipykernel_launcher.py:17: SettingWithCopyWarning: \n",
            "A value is trying to be set on a copy of a slice from a DataFrame\n",
            "\n",
            "See the caveats in the documentation: https://pandas.pydata.org/pandas-docs/stable/user_guide/indexing.html#returning-a-view-versus-a-copy\n"
          ],
          "name": "stderr"
        }
      ]
    },
    {
      "cell_type": "markdown",
      "metadata": {
        "id": "asdJXoXBUU2Q"
      },
      "source": [
        "### Convertendo os valores dos atributos para float"
      ]
    },
    {
      "cell_type": "code",
      "metadata": {
        "colab": {
          "base_uri": "https://localhost:8080/"
        },
        "id": "KxdG2l17WX57",
        "outputId": "2ad8541d-aab6-41c9-a16d-b6fdff804e63"
      },
      "source": [
        "# mostrar tipo dos atributos\n",
        "dataset.dtypes"
      ],
      "execution_count": null,
      "outputs": [
        {
          "output_type": "execute_result",
          "data": {
            "text/plain": [
              "Clump_Thickness            int64\n",
              "Cell_Size_Uniformity       int64\n",
              "Cell_Shape_Uniformity      int64\n",
              "Marginal_Adhesion          int64\n",
              "Single_Epi_Cell_Size       int64\n",
              "Bare_Nuclei              float64\n",
              "Bland_Chromatin            int64\n",
              "Normal_Nucleoli            int64\n",
              "Mitoses                    int64\n",
              "Class                      int64\n",
              "dtype: object"
            ]
          },
          "metadata": {
            "tags": []
          },
          "execution_count": 92
        }
      ]
    },
    {
      "cell_type": "code",
      "metadata": {
        "id": "gzQiKfFvUoco"
      },
      "source": [
        "# convertendo pra float\n",
        "dataset['Clump_Thickness'] = dataset['Clump_Thickness'].astype(float)\n",
        "dataset['Cell_Size_Uniformity'] = dataset['Cell_Size_Uniformity'].astype(float)\n",
        "dataset['Cell_Shape_Uniformity'] = dataset['Cell_Shape_Uniformity'].astype(float)\n",
        "dataset['Marginal_Adhesion'] = dataset['Marginal_Adhesion'].astype(float)\n",
        "dataset['Single_Epi_Cell_Size'] = dataset['Single_Epi_Cell_Size'].astype(float)\n",
        "dataset['Bland_Chromatin'] = dataset['Bland_Chromatin'].astype(float)\n",
        "dataset['Normal_Nucleoli'] = dataset['Normal_Nucleoli'].astype(float)\n",
        "dataset['Mitoses'] = dataset['Mitoses'].astype(float)"
      ],
      "execution_count": null,
      "outputs": []
    },
    {
      "cell_type": "code",
      "metadata": {
        "colab": {
          "base_uri": "https://localhost:8080/"
        },
        "id": "wnvrOJ09XdF9",
        "outputId": "782ee2a4-050e-482f-cd5a-239fdd2d0889"
      },
      "source": [
        "dataset.dtypes"
      ],
      "execution_count": null,
      "outputs": [
        {
          "output_type": "execute_result",
          "data": {
            "text/plain": [
              "Clump_Thickness          float64\n",
              "Cell_Size_Uniformity     float64\n",
              "Cell_Shape_Uniformity    float64\n",
              "Marginal_Adhesion        float64\n",
              "Single_Epi_Cell_Size     float64\n",
              "Bare_Nuclei              float64\n",
              "Bland_Chromatin          float64\n",
              "Normal_Nucleoli          float64\n",
              "Mitoses                  float64\n",
              "Class                      int64\n",
              "dtype: object"
            ]
          },
          "metadata": {
            "tags": []
          },
          "execution_count": 94
        }
      ]
    },
    {
      "cell_type": "markdown",
      "metadata": {
        "id": "zsPFIFFlr-UU"
      },
      "source": [
        "## Normalização"
      ]
    },
    {
      "cell_type": "code",
      "metadata": {
        "colab": {
          "base_uri": "https://localhost:8080/",
          "height": 439
        },
        "id": "pEMqQ6R_sWe1",
        "outputId": "ceb03267-1b3d-48d3-ba92-58d0fce74698"
      },
      "source": [
        "# dataframe sem a classe\n",
        "dataframe = pd.DataFrame(dataset.drop(['Class'], axis=1))\n",
        "dataframe"
      ],
      "execution_count": null,
      "outputs": [
        {
          "output_type": "execute_result",
          "data": {
            "text/html": [
              "<div>\n",
              "<style scoped>\n",
              "    .dataframe tbody tr th:only-of-type {\n",
              "        vertical-align: middle;\n",
              "    }\n",
              "\n",
              "    .dataframe tbody tr th {\n",
              "        vertical-align: top;\n",
              "    }\n",
              "\n",
              "    .dataframe thead th {\n",
              "        text-align: right;\n",
              "    }\n",
              "</style>\n",
              "<table border=\"1\" class=\"dataframe\">\n",
              "  <thead>\n",
              "    <tr style=\"text-align: right;\">\n",
              "      <th></th>\n",
              "      <th>Clump_Thickness</th>\n",
              "      <th>Cell_Size_Uniformity</th>\n",
              "      <th>Cell_Shape_Uniformity</th>\n",
              "      <th>Marginal_Adhesion</th>\n",
              "      <th>Single_Epi_Cell_Size</th>\n",
              "      <th>Bare_Nuclei</th>\n",
              "      <th>Bland_Chromatin</th>\n",
              "      <th>Normal_Nucleoli</th>\n",
              "      <th>Mitoses</th>\n",
              "    </tr>\n",
              "  </thead>\n",
              "  <tbody>\n",
              "    <tr>\n",
              "      <th>0</th>\n",
              "      <td>5.0</td>\n",
              "      <td>1.0</td>\n",
              "      <td>1.0</td>\n",
              "      <td>1.0</td>\n",
              "      <td>2.0</td>\n",
              "      <td>1.0</td>\n",
              "      <td>3.0</td>\n",
              "      <td>1.0</td>\n",
              "      <td>1.0</td>\n",
              "    </tr>\n",
              "    <tr>\n",
              "      <th>1</th>\n",
              "      <td>5.0</td>\n",
              "      <td>4.0</td>\n",
              "      <td>4.0</td>\n",
              "      <td>5.0</td>\n",
              "      <td>7.0</td>\n",
              "      <td>10.0</td>\n",
              "      <td>3.0</td>\n",
              "      <td>2.0</td>\n",
              "      <td>1.0</td>\n",
              "    </tr>\n",
              "    <tr>\n",
              "      <th>2</th>\n",
              "      <td>3.0</td>\n",
              "      <td>1.0</td>\n",
              "      <td>1.0</td>\n",
              "      <td>1.0</td>\n",
              "      <td>2.0</td>\n",
              "      <td>2.0</td>\n",
              "      <td>3.0</td>\n",
              "      <td>1.0</td>\n",
              "      <td>1.0</td>\n",
              "    </tr>\n",
              "    <tr>\n",
              "      <th>3</th>\n",
              "      <td>6.0</td>\n",
              "      <td>8.0</td>\n",
              "      <td>8.0</td>\n",
              "      <td>1.0</td>\n",
              "      <td>3.0</td>\n",
              "      <td>4.0</td>\n",
              "      <td>3.0</td>\n",
              "      <td>7.0</td>\n",
              "      <td>1.0</td>\n",
              "    </tr>\n",
              "    <tr>\n",
              "      <th>4</th>\n",
              "      <td>4.0</td>\n",
              "      <td>1.0</td>\n",
              "      <td>1.0</td>\n",
              "      <td>3.0</td>\n",
              "      <td>2.0</td>\n",
              "      <td>1.0</td>\n",
              "      <td>3.0</td>\n",
              "      <td>1.0</td>\n",
              "      <td>1.0</td>\n",
              "    </tr>\n",
              "    <tr>\n",
              "      <th>...</th>\n",
              "      <td>...</td>\n",
              "      <td>...</td>\n",
              "      <td>...</td>\n",
              "      <td>...</td>\n",
              "      <td>...</td>\n",
              "      <td>...</td>\n",
              "      <td>...</td>\n",
              "      <td>...</td>\n",
              "      <td>...</td>\n",
              "    </tr>\n",
              "    <tr>\n",
              "      <th>694</th>\n",
              "      <td>3.0</td>\n",
              "      <td>1.0</td>\n",
              "      <td>1.0</td>\n",
              "      <td>1.0</td>\n",
              "      <td>3.0</td>\n",
              "      <td>2.0</td>\n",
              "      <td>1.0</td>\n",
              "      <td>1.0</td>\n",
              "      <td>1.0</td>\n",
              "    </tr>\n",
              "    <tr>\n",
              "      <th>695</th>\n",
              "      <td>2.0</td>\n",
              "      <td>1.0</td>\n",
              "      <td>1.0</td>\n",
              "      <td>1.0</td>\n",
              "      <td>2.0</td>\n",
              "      <td>1.0</td>\n",
              "      <td>1.0</td>\n",
              "      <td>1.0</td>\n",
              "      <td>1.0</td>\n",
              "    </tr>\n",
              "    <tr>\n",
              "      <th>696</th>\n",
              "      <td>5.0</td>\n",
              "      <td>10.0</td>\n",
              "      <td>10.0</td>\n",
              "      <td>3.0</td>\n",
              "      <td>7.0</td>\n",
              "      <td>3.0</td>\n",
              "      <td>8.0</td>\n",
              "      <td>10.0</td>\n",
              "      <td>2.0</td>\n",
              "    </tr>\n",
              "    <tr>\n",
              "      <th>697</th>\n",
              "      <td>4.0</td>\n",
              "      <td>8.0</td>\n",
              "      <td>6.0</td>\n",
              "      <td>4.0</td>\n",
              "      <td>3.0</td>\n",
              "      <td>4.0</td>\n",
              "      <td>10.0</td>\n",
              "      <td>6.0</td>\n",
              "      <td>1.0</td>\n",
              "    </tr>\n",
              "    <tr>\n",
              "      <th>698</th>\n",
              "      <td>4.0</td>\n",
              "      <td>8.0</td>\n",
              "      <td>8.0</td>\n",
              "      <td>5.0</td>\n",
              "      <td>4.0</td>\n",
              "      <td>5.0</td>\n",
              "      <td>10.0</td>\n",
              "      <td>4.0</td>\n",
              "      <td>1.0</td>\n",
              "    </tr>\n",
              "  </tbody>\n",
              "</table>\n",
              "<p>699 rows × 9 columns</p>\n",
              "</div>"
            ],
            "text/plain": [
              "     Clump_Thickness  Cell_Size_Uniformity  ...  Normal_Nucleoli  Mitoses\n",
              "0                5.0                   1.0  ...              1.0      1.0\n",
              "1                5.0                   4.0  ...              2.0      1.0\n",
              "2                3.0                   1.0  ...              1.0      1.0\n",
              "3                6.0                   8.0  ...              7.0      1.0\n",
              "4                4.0                   1.0  ...              1.0      1.0\n",
              "..               ...                   ...  ...              ...      ...\n",
              "694              3.0                   1.0  ...              1.0      1.0\n",
              "695              2.0                   1.0  ...              1.0      1.0\n",
              "696              5.0                  10.0  ...             10.0      2.0\n",
              "697              4.0                   8.0  ...              6.0      1.0\n",
              "698              4.0                   8.0  ...              4.0      1.0\n",
              "\n",
              "[699 rows x 9 columns]"
            ]
          },
          "metadata": {
            "tags": []
          },
          "execution_count": 95
        }
      ]
    },
    {
      "cell_type": "code",
      "metadata": {
        "id": "LugbUGQg7E2t"
      },
      "source": [
        "Xoriginal = pd.DataFrame(dataset.drop(['Class'], axis=1))\n",
        "\n",
        "# passa para y somente a classe\n",
        "yoriginal = pd.DataFrame(dataset['Class'])"
      ],
      "execution_count": null,
      "outputs": []
    },
    {
      "cell_type": "code",
      "metadata": {
        "id": "i91WarPb7apK"
      },
      "source": [
        "Xoriginal_train, Xoriginal_test, yoriginal_train, yoriginal_test = train_test_split(Xoriginal, yoriginal, test_size=0.1,random_state=42)"
      ],
      "execution_count": null,
      "outputs": []
    },
    {
      "cell_type": "code",
      "metadata": {
        "id": "tMhNcUSir7hD",
        "colab": {
          "base_uri": "https://localhost:8080/",
          "height": 439
        },
        "outputId": "787d3098-4540-42e2-888b-4c2a999cc468"
      },
      "source": [
        "from sklearn.preprocessing import StandardScaler\n",
        "\n",
        "scaler1 = StandardScaler()\n",
        "df = pd.DataFrame(scaler1.fit_transform(dataframe), columns = dataframe.columns)\n",
        "df # dataframe normalizado"
      ],
      "execution_count": null,
      "outputs": [
        {
          "output_type": "execute_result",
          "data": {
            "text/html": [
              "<div>\n",
              "<style scoped>\n",
              "    .dataframe tbody tr th:only-of-type {\n",
              "        vertical-align: middle;\n",
              "    }\n",
              "\n",
              "    .dataframe tbody tr th {\n",
              "        vertical-align: top;\n",
              "    }\n",
              "\n",
              "    .dataframe thead th {\n",
              "        text-align: right;\n",
              "    }\n",
              "</style>\n",
              "<table border=\"1\" class=\"dataframe\">\n",
              "  <thead>\n",
              "    <tr style=\"text-align: right;\">\n",
              "      <th></th>\n",
              "      <th>Clump_Thickness</th>\n",
              "      <th>Cell_Size_Uniformity</th>\n",
              "      <th>Cell_Shape_Uniformity</th>\n",
              "      <th>Marginal_Adhesion</th>\n",
              "      <th>Single_Epi_Cell_Size</th>\n",
              "      <th>Bare_Nuclei</th>\n",
              "      <th>Bland_Chromatin</th>\n",
              "      <th>Normal_Nucleoli</th>\n",
              "      <th>Mitoses</th>\n",
              "    </tr>\n",
              "  </thead>\n",
              "  <tbody>\n",
              "    <tr>\n",
              "      <th>0</th>\n",
              "      <td>0.206936</td>\n",
              "      <td>-0.699995</td>\n",
              "      <td>-0.743299</td>\n",
              "      <td>-0.633247</td>\n",
              "      <td>-0.549561</td>\n",
              "      <td>-0.703348</td>\n",
              "      <td>-0.179662</td>\n",
              "      <td>-0.611825</td>\n",
              "      <td>-0.343912</td>\n",
              "    </tr>\n",
              "    <tr>\n",
              "      <th>1</th>\n",
              "      <td>0.206936</td>\n",
              "      <td>0.283845</td>\n",
              "      <td>0.266875</td>\n",
              "      <td>0.768621</td>\n",
              "      <td>1.710106</td>\n",
              "      <td>1.796516</td>\n",
              "      <td>-0.179662</td>\n",
              "      <td>-0.284112</td>\n",
              "      <td>-0.343912</td>\n",
              "    </tr>\n",
              "    <tr>\n",
              "      <th>2</th>\n",
              "      <td>-0.503866</td>\n",
              "      <td>-0.699995</td>\n",
              "      <td>-0.743299</td>\n",
              "      <td>-0.633247</td>\n",
              "      <td>-0.549561</td>\n",
              "      <td>-0.425585</td>\n",
              "      <td>-0.179662</td>\n",
              "      <td>-0.611825</td>\n",
              "      <td>-0.343912</td>\n",
              "    </tr>\n",
              "    <tr>\n",
              "      <th>3</th>\n",
              "      <td>0.562336</td>\n",
              "      <td>1.595632</td>\n",
              "      <td>1.613773</td>\n",
              "      <td>-0.633247</td>\n",
              "      <td>-0.097628</td>\n",
              "      <td>0.129940</td>\n",
              "      <td>-0.179662</td>\n",
              "      <td>1.354454</td>\n",
              "      <td>-0.343912</td>\n",
              "    </tr>\n",
              "    <tr>\n",
              "      <th>4</th>\n",
              "      <td>-0.148465</td>\n",
              "      <td>-0.699995</td>\n",
              "      <td>-0.743299</td>\n",
              "      <td>0.067687</td>\n",
              "      <td>-0.549561</td>\n",
              "      <td>-0.703348</td>\n",
              "      <td>-0.179662</td>\n",
              "      <td>-0.611825</td>\n",
              "      <td>-0.343912</td>\n",
              "    </tr>\n",
              "    <tr>\n",
              "      <th>...</th>\n",
              "      <td>...</td>\n",
              "      <td>...</td>\n",
              "      <td>...</td>\n",
              "      <td>...</td>\n",
              "      <td>...</td>\n",
              "      <td>...</td>\n",
              "      <td>...</td>\n",
              "      <td>...</td>\n",
              "      <td>...</td>\n",
              "    </tr>\n",
              "    <tr>\n",
              "      <th>694</th>\n",
              "      <td>-0.503866</td>\n",
              "      <td>-0.699995</td>\n",
              "      <td>-0.743299</td>\n",
              "      <td>-0.633247</td>\n",
              "      <td>-0.097628</td>\n",
              "      <td>-0.425585</td>\n",
              "      <td>-1.000471</td>\n",
              "      <td>-0.611825</td>\n",
              "      <td>-0.343912</td>\n",
              "    </tr>\n",
              "    <tr>\n",
              "      <th>695</th>\n",
              "      <td>-0.859266</td>\n",
              "      <td>-0.699995</td>\n",
              "      <td>-0.743299</td>\n",
              "      <td>-0.633247</td>\n",
              "      <td>-0.549561</td>\n",
              "      <td>-0.703348</td>\n",
              "      <td>-1.000471</td>\n",
              "      <td>-0.611825</td>\n",
              "      <td>-0.343912</td>\n",
              "    </tr>\n",
              "    <tr>\n",
              "      <th>696</th>\n",
              "      <td>0.206936</td>\n",
              "      <td>2.251526</td>\n",
              "      <td>2.287222</td>\n",
              "      <td>0.067687</td>\n",
              "      <td>1.710106</td>\n",
              "      <td>-0.147822</td>\n",
              "      <td>1.872361</td>\n",
              "      <td>2.337594</td>\n",
              "      <td>0.239570</td>\n",
              "    </tr>\n",
              "    <tr>\n",
              "      <th>697</th>\n",
              "      <td>-0.148465</td>\n",
              "      <td>1.595632</td>\n",
              "      <td>0.940324</td>\n",
              "      <td>0.418154</td>\n",
              "      <td>-0.097628</td>\n",
              "      <td>0.129940</td>\n",
              "      <td>2.693171</td>\n",
              "      <td>1.026741</td>\n",
              "      <td>-0.343912</td>\n",
              "    </tr>\n",
              "    <tr>\n",
              "      <th>698</th>\n",
              "      <td>-0.148465</td>\n",
              "      <td>1.595632</td>\n",
              "      <td>1.613773</td>\n",
              "      <td>0.768621</td>\n",
              "      <td>0.354305</td>\n",
              "      <td>0.407703</td>\n",
              "      <td>2.693171</td>\n",
              "      <td>0.371315</td>\n",
              "      <td>-0.343912</td>\n",
              "    </tr>\n",
              "  </tbody>\n",
              "</table>\n",
              "<p>699 rows × 9 columns</p>\n",
              "</div>"
            ],
            "text/plain": [
              "     Clump_Thickness  Cell_Size_Uniformity  ...  Normal_Nucleoli   Mitoses\n",
              "0           0.206936             -0.699995  ...        -0.611825 -0.343912\n",
              "1           0.206936              0.283845  ...        -0.284112 -0.343912\n",
              "2          -0.503866             -0.699995  ...        -0.611825 -0.343912\n",
              "3           0.562336              1.595632  ...         1.354454 -0.343912\n",
              "4          -0.148465             -0.699995  ...        -0.611825 -0.343912\n",
              "..               ...                   ...  ...              ...       ...\n",
              "694        -0.503866             -0.699995  ...        -0.611825 -0.343912\n",
              "695        -0.859266             -0.699995  ...        -0.611825 -0.343912\n",
              "696         0.206936              2.251526  ...         2.337594  0.239570\n",
              "697        -0.148465              1.595632  ...         1.026741 -0.343912\n",
              "698        -0.148465              1.595632  ...         0.371315 -0.343912\n",
              "\n",
              "[699 rows x 9 columns]"
            ]
          },
          "metadata": {
            "tags": []
          },
          "execution_count": 98
        }
      ]
    },
    {
      "cell_type": "code",
      "metadata": {
        "id": "Vn99C081s9z_",
        "colab": {
          "base_uri": "https://localhost:8080/",
          "height": 439
        },
        "outputId": "e830b71c-39b8-4833-aaad-190c61d9fb33"
      },
      "source": [
        "# concatenando o dataframe normalizado com a classe\n",
        "df = pd.concat([df, dataset['Class']],axis=1)\n",
        "df"
      ],
      "execution_count": null,
      "outputs": [
        {
          "output_type": "execute_result",
          "data": {
            "text/html": [
              "<div>\n",
              "<style scoped>\n",
              "    .dataframe tbody tr th:only-of-type {\n",
              "        vertical-align: middle;\n",
              "    }\n",
              "\n",
              "    .dataframe tbody tr th {\n",
              "        vertical-align: top;\n",
              "    }\n",
              "\n",
              "    .dataframe thead th {\n",
              "        text-align: right;\n",
              "    }\n",
              "</style>\n",
              "<table border=\"1\" class=\"dataframe\">\n",
              "  <thead>\n",
              "    <tr style=\"text-align: right;\">\n",
              "      <th></th>\n",
              "      <th>Clump_Thickness</th>\n",
              "      <th>Cell_Size_Uniformity</th>\n",
              "      <th>Cell_Shape_Uniformity</th>\n",
              "      <th>Marginal_Adhesion</th>\n",
              "      <th>Single_Epi_Cell_Size</th>\n",
              "      <th>Bare_Nuclei</th>\n",
              "      <th>Bland_Chromatin</th>\n",
              "      <th>Normal_Nucleoli</th>\n",
              "      <th>Mitoses</th>\n",
              "      <th>Class</th>\n",
              "    </tr>\n",
              "  </thead>\n",
              "  <tbody>\n",
              "    <tr>\n",
              "      <th>0</th>\n",
              "      <td>0.206936</td>\n",
              "      <td>-0.699995</td>\n",
              "      <td>-0.743299</td>\n",
              "      <td>-0.633247</td>\n",
              "      <td>-0.549561</td>\n",
              "      <td>-0.703348</td>\n",
              "      <td>-0.179662</td>\n",
              "      <td>-0.611825</td>\n",
              "      <td>-0.343912</td>\n",
              "      <td>0</td>\n",
              "    </tr>\n",
              "    <tr>\n",
              "      <th>1</th>\n",
              "      <td>0.206936</td>\n",
              "      <td>0.283845</td>\n",
              "      <td>0.266875</td>\n",
              "      <td>0.768621</td>\n",
              "      <td>1.710106</td>\n",
              "      <td>1.796516</td>\n",
              "      <td>-0.179662</td>\n",
              "      <td>-0.284112</td>\n",
              "      <td>-0.343912</td>\n",
              "      <td>0</td>\n",
              "    </tr>\n",
              "    <tr>\n",
              "      <th>2</th>\n",
              "      <td>-0.503866</td>\n",
              "      <td>-0.699995</td>\n",
              "      <td>-0.743299</td>\n",
              "      <td>-0.633247</td>\n",
              "      <td>-0.549561</td>\n",
              "      <td>-0.425585</td>\n",
              "      <td>-0.179662</td>\n",
              "      <td>-0.611825</td>\n",
              "      <td>-0.343912</td>\n",
              "      <td>0</td>\n",
              "    </tr>\n",
              "    <tr>\n",
              "      <th>3</th>\n",
              "      <td>0.562336</td>\n",
              "      <td>1.595632</td>\n",
              "      <td>1.613773</td>\n",
              "      <td>-0.633247</td>\n",
              "      <td>-0.097628</td>\n",
              "      <td>0.129940</td>\n",
              "      <td>-0.179662</td>\n",
              "      <td>1.354454</td>\n",
              "      <td>-0.343912</td>\n",
              "      <td>0</td>\n",
              "    </tr>\n",
              "    <tr>\n",
              "      <th>4</th>\n",
              "      <td>-0.148465</td>\n",
              "      <td>-0.699995</td>\n",
              "      <td>-0.743299</td>\n",
              "      <td>0.067687</td>\n",
              "      <td>-0.549561</td>\n",
              "      <td>-0.703348</td>\n",
              "      <td>-0.179662</td>\n",
              "      <td>-0.611825</td>\n",
              "      <td>-0.343912</td>\n",
              "      <td>0</td>\n",
              "    </tr>\n",
              "    <tr>\n",
              "      <th>...</th>\n",
              "      <td>...</td>\n",
              "      <td>...</td>\n",
              "      <td>...</td>\n",
              "      <td>...</td>\n",
              "      <td>...</td>\n",
              "      <td>...</td>\n",
              "      <td>...</td>\n",
              "      <td>...</td>\n",
              "      <td>...</td>\n",
              "      <td>...</td>\n",
              "    </tr>\n",
              "    <tr>\n",
              "      <th>694</th>\n",
              "      <td>-0.503866</td>\n",
              "      <td>-0.699995</td>\n",
              "      <td>-0.743299</td>\n",
              "      <td>-0.633247</td>\n",
              "      <td>-0.097628</td>\n",
              "      <td>-0.425585</td>\n",
              "      <td>-1.000471</td>\n",
              "      <td>-0.611825</td>\n",
              "      <td>-0.343912</td>\n",
              "      <td>0</td>\n",
              "    </tr>\n",
              "    <tr>\n",
              "      <th>695</th>\n",
              "      <td>-0.859266</td>\n",
              "      <td>-0.699995</td>\n",
              "      <td>-0.743299</td>\n",
              "      <td>-0.633247</td>\n",
              "      <td>-0.549561</td>\n",
              "      <td>-0.703348</td>\n",
              "      <td>-1.000471</td>\n",
              "      <td>-0.611825</td>\n",
              "      <td>-0.343912</td>\n",
              "      <td>0</td>\n",
              "    </tr>\n",
              "    <tr>\n",
              "      <th>696</th>\n",
              "      <td>0.206936</td>\n",
              "      <td>2.251526</td>\n",
              "      <td>2.287222</td>\n",
              "      <td>0.067687</td>\n",
              "      <td>1.710106</td>\n",
              "      <td>-0.147822</td>\n",
              "      <td>1.872361</td>\n",
              "      <td>2.337594</td>\n",
              "      <td>0.239570</td>\n",
              "      <td>1</td>\n",
              "    </tr>\n",
              "    <tr>\n",
              "      <th>697</th>\n",
              "      <td>-0.148465</td>\n",
              "      <td>1.595632</td>\n",
              "      <td>0.940324</td>\n",
              "      <td>0.418154</td>\n",
              "      <td>-0.097628</td>\n",
              "      <td>0.129940</td>\n",
              "      <td>2.693171</td>\n",
              "      <td>1.026741</td>\n",
              "      <td>-0.343912</td>\n",
              "      <td>1</td>\n",
              "    </tr>\n",
              "    <tr>\n",
              "      <th>698</th>\n",
              "      <td>-0.148465</td>\n",
              "      <td>1.595632</td>\n",
              "      <td>1.613773</td>\n",
              "      <td>0.768621</td>\n",
              "      <td>0.354305</td>\n",
              "      <td>0.407703</td>\n",
              "      <td>2.693171</td>\n",
              "      <td>0.371315</td>\n",
              "      <td>-0.343912</td>\n",
              "      <td>1</td>\n",
              "    </tr>\n",
              "  </tbody>\n",
              "</table>\n",
              "<p>699 rows × 10 columns</p>\n",
              "</div>"
            ],
            "text/plain": [
              "     Clump_Thickness  Cell_Size_Uniformity  ...   Mitoses  Class\n",
              "0           0.206936             -0.699995  ... -0.343912      0\n",
              "1           0.206936              0.283845  ... -0.343912      0\n",
              "2          -0.503866             -0.699995  ... -0.343912      0\n",
              "3           0.562336              1.595632  ... -0.343912      0\n",
              "4          -0.148465             -0.699995  ... -0.343912      0\n",
              "..               ...                   ...  ...       ...    ...\n",
              "694        -0.503866             -0.699995  ... -0.343912      0\n",
              "695        -0.859266             -0.699995  ... -0.343912      0\n",
              "696         0.206936              2.251526  ...  0.239570      1\n",
              "697        -0.148465              1.595632  ... -0.343912      1\n",
              "698        -0.148465              1.595632  ... -0.343912      1\n",
              "\n",
              "[699 rows x 10 columns]"
            ]
          },
          "metadata": {
            "tags": []
          },
          "execution_count": 99
        }
      ]
    },
    {
      "cell_type": "markdown",
      "metadata": {
        "id": "g9zxk11VuUmy"
      },
      "source": [
        "## Balanceamento"
      ]
    },
    {
      "cell_type": "code",
      "metadata": {
        "colab": {
          "base_uri": "https://localhost:8080/",
          "height": 346
        },
        "id": "E07Bh3HouWLN",
        "outputId": "24be7c8b-ed60-4e4b-910d-d650555ed67d"
      },
      "source": [
        "class_distr = df.Class.value_counts()\n",
        "print(class_distr)\n",
        "class_distr.plot(kind='bar', title='Count (Classe)')"
      ],
      "execution_count": null,
      "outputs": [
        {
          "output_type": "stream",
          "text": [
            "0    458\n",
            "1    241\n",
            "Name: Class, dtype: int64\n"
          ],
          "name": "stdout"
        },
        {
          "output_type": "execute_result",
          "data": {
            "text/plain": [
              "<matplotlib.axes._subplots.AxesSubplot at 0x7f52c23dc1d0>"
            ]
          },
          "metadata": {
            "tags": []
          },
          "execution_count": 100
        },
        {
          "output_type": "display_data",
          "data": {
            "image/png": "[encoded data removed]",
            "text/plain": [
              "<Figure size 432x288 with 1 Axes>"
            ]
          },
          "metadata": {
            "tags": [],
            "needs_background": "light"
          }
        }
      ]
    },
    {
      "cell_type": "markdown",
      "metadata": {
        "id": "XcQAi7UKup3t"
      },
      "source": [
        "Fazendo o balanceamento dos dados já normalizados"
      ]
    },
    {
      "cell_type": "code",
      "metadata": {
        "id": "nonJ9POurpcl"
      },
      "source": [
        "# passa para X somente os atributos preditivos, tirando a classe\n",
        "# dados normalizados com standard\n",
        "X = pd.DataFrame(df.drop(['Class'], axis=1))\n",
        "\n",
        "# passa para y somente a classe\n",
        "y = pd.DataFrame(df['Class'])"
      ],
      "execution_count": null,
      "outputs": []
    },
    {
      "cell_type": "code",
      "metadata": {
        "colab": {
          "base_uri": "https://localhost:8080/"
        },
        "id": "tSnEQasfyOyV",
        "outputId": "a7d4c908-4cf1-49d1-9741-68c70211272c"
      },
      "source": [
        "# smote\n",
        "from imblearn.over_sampling import SMOTE\n",
        "\n",
        "smote = SMOTE(ratio='minority')\n",
        "X_sm, y_sm = smote.fit_sample(X, y)\n",
        "\n",
        "#Avaliar a acuracia do SMOTE\n",
        "model = KNeighborsClassifier(n_neighbors=3,weights='distance', metric='euclidean')\n",
        "scores = cross_val_score(model,X_sm, y_sm, cv = 10, scoring = 'accuracy')\n",
        "print(\"Accuracy: %.2f%%\" % (scores.mean() * 100.0))"
      ],
      "execution_count": null,
      "outputs": [
        {
          "output_type": "stream",
          "text": [
            "Accuracy: 98.37%\n"
          ],
          "name": "stdout"
        },
        {
          "output_type": "stream",
          "text": [
            "/usr/local/lib/python3.7/dist-packages/sklearn/utils/validation.py:760: DataConversionWarning: A column-vector y was passed when a 1d array was expected. Please change the shape of y to (n_samples, ), for example using ravel().\n",
            "  y = column_or_1d(y, warn=True)\n",
            "/usr/local/lib/python3.7/dist-packages/sklearn/utils/deprecation.py:87: FutureWarning: Function safe_indexing is deprecated; safe_indexing is deprecated in version 0.22 and will be removed in version 0.24.\n",
            "  warnings.warn(msg, category=FutureWarning)\n"
          ],
          "name": "stderr"
        }
      ]
    },
    {
      "cell_type": "code",
      "metadata": {
        "id": "x2ffrW3ssZ43"
      },
      "source": [
        "#transforma em dataframe\n",
        "Xcc = pd.DataFrame(X_sm, columns= X.columns)\n",
        "y_classe = pd.DataFrame(y_sm,columns= ['Class'])"
      ],
      "execution_count": null,
      "outputs": []
    },
    {
      "cell_type": "code",
      "metadata": {
        "id": "ZuJc19kItFh_"
      },
      "source": [
        "# concatena com a classe\n",
        "df_cc = pd.concat([Xcc, y_classe],axis=1)"
      ],
      "execution_count": null,
      "outputs": []
    },
    {
      "cell_type": "code",
      "metadata": {
        "id": "WZwmw7UPtJBq"
      },
      "source": [
        "# fazendo split de teste e treino\n",
        "Xcc_train, Xcc_test, ycc_train, ycc_test = train_test_split(Xcc, y_classe, test_size=0.1,random_state=42)"
      ],
      "execution_count": null,
      "outputs": []
    },
    {
      "cell_type": "markdown",
      "metadata": {
        "id": "-AC7Y-M2utLG"
      },
      "source": [
        "## Extração de atributos (PCA)"
      ]
    },
    {
      "cell_type": "markdown",
      "metadata": {
        "id": "lkiTktL-yGPV"
      },
      "source": [
        "Optamos por escolher a extração de atributos como método de redução de dimensionalidade, pois acreditamos que a seleção de atributos não seria tão adequada porque o dataset possui poucos atributos, os quais serão úteis e suficientes para trabalharmos."
      ]
    },
    {
      "cell_type": "code",
      "metadata": {
        "colab": {
          "base_uri": "https://localhost:8080/"
        },
        "id": "H3n4AnqJu5GP",
        "outputId": "27318044-8602-48d5-f76d-8dc3b25c9d4f"
      },
      "source": [
        "pca = PCA(n_components=3) # número de componentes\n",
        "pca_fit = pca.fit(Xcc)\n",
        "pca_fit.explained_variance_ratio_ # informação para fazer o scree plot"
      ],
      "execution_count": null,
      "outputs": [
        {
          "output_type": "execute_result",
          "data": {
            "text/plain": [
              "array([0.63414821, 0.09971608, 0.05979921])"
            ]
          },
          "metadata": {
            "tags": []
          },
          "execution_count": 106
        }
      ]
    },
    {
      "cell_type": "code",
      "metadata": {
        "colab": {
          "base_uri": "https://localhost:8080/",
          "height": 279
        },
        "id": "6O9K_9XAu5Jg",
        "outputId": "b8ca181b-9320-4909-f5e5-cdb2be8e6c3b"
      },
      "source": [
        "per_var = np.round(pca_fit.explained_variance_ratio_*100, decimals=1) # transformando para %\n",
        "\n",
        "plt.bar(x=range(1, len(per_var)+1), height=per_var, tick_label=['PC1','PC2','PC3'])\n",
        "plt.ylabel('Porcentagem da Variância Explicada')\n",
        "plt.xlabel('Componentes Principais')\n",
        "plt.show()"
      ],
      "execution_count": null,
      "outputs": [
        {
          "output_type": "display_data",
          "data": {
            "image/png": "[encoded data removed]",
            "text/plain": [
              "<Figure size 432x288 with 1 Axes>"
            ]
          },
          "metadata": {
            "tags": [],
            "needs_background": "light"
          }
        }
      ]
    },
    {
      "cell_type": "code",
      "metadata": {
        "colab": {
          "base_uri": "https://localhost:8080/"
        },
        "id": "syEzY04DvSiN",
        "outputId": "4c14a596-a4dd-46a2-f7d9-7f1c6ae1a999"
      },
      "source": [
        "principalComp = pca.fit_transform(Xcc) \n",
        "principalComp # é o novo dataset"
      ],
      "execution_count": null,
      "outputs": [
        {
          "output_type": "execute_result",
          "data": {
            "text/plain": [
              "array([[-2.17140587,  0.02695362, -0.50767953],\n",
              "       [ 0.74712795, -0.50224081,  0.11889705],\n",
              "       [-2.28536479,  0.01611874,  0.03826931],\n",
              "       ...,\n",
              "       [ 1.51044119, -0.84493964, -0.33206963],\n",
              "       [ 3.9042624 , -0.30866568,  0.09768408],\n",
              "       [ 3.8468375 , -1.89134124,  0.09947756]])"
            ]
          },
          "metadata": {
            "tags": []
          },
          "execution_count": 108
        }
      ]
    },
    {
      "cell_type": "code",
      "metadata": {
        "colab": {
          "base_uri": "https://localhost:8080/",
          "height": 419
        },
        "id": "lAwYxMR5vXgH",
        "outputId": "be7e0e3c-de62-488c-a920-b8e5024b3799"
      },
      "source": [
        "df_pca = pd.DataFrame(data=principalComp, columns=['PC1', 'PC2', 'PC3']) # é o novo dataframe \n",
        "df_pca = pd.concat([df_pca, y_classe], axis=1) # juntando com a classe\n",
        "df_pca"
      ],
      "execution_count": null,
      "outputs": [
        {
          "output_type": "execute_result",
          "data": {
            "text/html": [
              "<div>\n",
              "<style scoped>\n",
              "    .dataframe tbody tr th:only-of-type {\n",
              "        vertical-align: middle;\n",
              "    }\n",
              "\n",
              "    .dataframe tbody tr th {\n",
              "        vertical-align: top;\n",
              "    }\n",
              "\n",
              "    .dataframe thead th {\n",
              "        text-align: right;\n",
              "    }\n",
              "</style>\n",
              "<table border=\"1\" class=\"dataframe\">\n",
              "  <thead>\n",
              "    <tr style=\"text-align: right;\">\n",
              "      <th></th>\n",
              "      <th>PC1</th>\n",
              "      <th>PC2</th>\n",
              "      <th>PC3</th>\n",
              "      <th>Class</th>\n",
              "    </tr>\n",
              "  </thead>\n",
              "  <tbody>\n",
              "    <tr>\n",
              "      <th>0</th>\n",
              "      <td>-2.171406</td>\n",
              "      <td>0.026954</td>\n",
              "      <td>-0.507680</td>\n",
              "      <td>0</td>\n",
              "    </tr>\n",
              "    <tr>\n",
              "      <th>1</th>\n",
              "      <td>0.747128</td>\n",
              "      <td>-0.502241</td>\n",
              "      <td>0.118897</td>\n",
              "      <td>0</td>\n",
              "    </tr>\n",
              "    <tr>\n",
              "      <th>2</th>\n",
              "      <td>-2.285365</td>\n",
              "      <td>0.016119</td>\n",
              "      <td>0.038269</td>\n",
              "      <td>0</td>\n",
              "    </tr>\n",
              "    <tr>\n",
              "      <th>3</th>\n",
              "      <td>0.773419</td>\n",
              "      <td>-0.503649</td>\n",
              "      <td>-0.697091</td>\n",
              "      <td>0</td>\n",
              "    </tr>\n",
              "    <tr>\n",
              "      <th>4</th>\n",
              "      <td>-2.036194</td>\n",
              "      <td>0.009794</td>\n",
              "      <td>0.158771</td>\n",
              "      <td>0</td>\n",
              "    </tr>\n",
              "    <tr>\n",
              "      <th>...</th>\n",
              "      <td>...</td>\n",
              "      <td>...</td>\n",
              "      <td>...</td>\n",
              "      <td>...</td>\n",
              "    </tr>\n",
              "    <tr>\n",
              "      <th>911</th>\n",
              "      <td>3.594077</td>\n",
              "      <td>0.545873</td>\n",
              "      <td>0.117802</td>\n",
              "      <td>1</td>\n",
              "    </tr>\n",
              "    <tr>\n",
              "      <th>912</th>\n",
              "      <td>0.731869</td>\n",
              "      <td>-0.728767</td>\n",
              "      <td>-1.821597</td>\n",
              "      <td>1</td>\n",
              "    </tr>\n",
              "    <tr>\n",
              "      <th>913</th>\n",
              "      <td>1.510441</td>\n",
              "      <td>-0.844940</td>\n",
              "      <td>-0.332070</td>\n",
              "      <td>1</td>\n",
              "    </tr>\n",
              "    <tr>\n",
              "      <th>914</th>\n",
              "      <td>3.904262</td>\n",
              "      <td>-0.308666</td>\n",
              "      <td>0.097684</td>\n",
              "      <td>1</td>\n",
              "    </tr>\n",
              "    <tr>\n",
              "      <th>915</th>\n",
              "      <td>3.846838</td>\n",
              "      <td>-1.891341</td>\n",
              "      <td>0.099478</td>\n",
              "      <td>1</td>\n",
              "    </tr>\n",
              "  </tbody>\n",
              "</table>\n",
              "<p>916 rows × 4 columns</p>\n",
              "</div>"
            ],
            "text/plain": [
              "          PC1       PC2       PC3  Class\n",
              "0   -2.171406  0.026954 -0.507680      0\n",
              "1    0.747128 -0.502241  0.118897      0\n",
              "2   -2.285365  0.016119  0.038269      0\n",
              "3    0.773419 -0.503649 -0.697091      0\n",
              "4   -2.036194  0.009794  0.158771      0\n",
              "..        ...       ...       ...    ...\n",
              "911  3.594077  0.545873  0.117802      1\n",
              "912  0.731869 -0.728767 -1.821597      1\n",
              "913  1.510441 -0.844940 -0.332070      1\n",
              "914  3.904262 -0.308666  0.097684      1\n",
              "915  3.846838 -1.891341  0.099478      1\n",
              "\n",
              "[916 rows x 4 columns]"
            ]
          },
          "metadata": {
            "tags": []
          },
          "execution_count": 109
        }
      ]
    },
    {
      "cell_type": "code",
      "metadata": {
        "id": "YSP09KDEvoA0"
      },
      "source": [
        "# fazendo split de teste e treino com o novo dataframe\n",
        "Xpca = df_pca.drop(['Class'], axis = 1) \n",
        "ypca = df_pca['Class']"
      ],
      "execution_count": null,
      "outputs": []
    },
    {
      "cell_type": "code",
      "metadata": {
        "id": "jXm68PD3v35f"
      },
      "source": [
        "Xpca_train, Xpca_test, ypca_train, ypca_test = train_test_split(Xpca, ypca, test_size=0.2)"
      ],
      "execution_count": null,
      "outputs": []
    },
    {
      "cell_type": "markdown",
      "metadata": {
        "id": "gC0S4dAyOvDZ"
      },
      "source": [
        "# 2. Classificadores"
      ]
    },
    {
      "cell_type": "markdown",
      "metadata": {
        "id": "Zn_IjjKUN8YG"
      },
      "source": [
        "## 2.1 Classificador default"
      ]
    },
    {
      "cell_type": "code",
      "metadata": {
        "colab": {
          "base_uri": "https://localhost:8080/"
        },
        "id": "DtrT6SEYPcvn",
        "outputId": "0820a0a6-54c2-48f0-87f7-a1d74e403a72"
      },
      "source": [
        "# KNN com k = 3 e métrica euclidiana\n",
        "\n",
        "model = sklearn.neighbors.KNeighborsClassifier(n_neighbors=3, metric='euclidean') \n",
        "model.fit(Xoriginal_train, yoriginal_train)\n",
        "y_pred = model.predict(Xoriginal_test)\n",
        "\n",
        "acc = accuracy_score(yoriginal_test, y_pred)\n",
        "print(acc)"
      ],
      "execution_count": null,
      "outputs": [
        {
          "output_type": "stream",
          "text": [
            "0.9571428571428572\n"
          ],
          "name": "stdout"
        },
        {
          "output_type": "stream",
          "text": [
            "/usr/local/lib/python3.7/dist-packages/ipykernel_launcher.py:4: DataConversionWarning: A column-vector y was passed when a 1d array was expected. Please change the shape of y to (n_samples, ), for example using ravel().\n",
            "  after removing the cwd from sys.path.\n"
          ],
          "name": "stderr"
        }
      ]
    },
    {
      "cell_type": "markdown",
      "metadata": {
        "id": "K8s5Vnt_ty4l"
      },
      "source": [
        "*   KNN sem normalização: acurácia de 95%\n",
        "\n"
      ]
    },
    {
      "cell_type": "markdown",
      "metadata": {
        "id": "mXqxwfLROCPv"
      },
      "source": [
        "## 2.2 Classificador melhorado "
      ]
    },
    {
      "cell_type": "markdown",
      "metadata": {
        "id": "9D8KYbKIXQsD"
      },
      "source": [
        "#### 2.2.1 Encontrando o melhor valor de K."
      ]
    },
    {
      "cell_type": "markdown",
      "metadata": {
        "id": "hBpbVp69ZLAX"
      },
      "source": [
        "observação para apagar - x e y usados vem do df normalizado\n"
      ]
    },
    {
      "cell_type": "code",
      "metadata": {
        "id": "rwWYGdODWIg4"
      },
      "source": [
        "from sklearn.feature_selection import SelectKBest,f_regression\n",
        "from sklearn.model_selection import cross_validate\n",
        "from sklearn.pipeline import Pipeline\n",
        "from sklearn.linear_model import LinearRegression\n",
        "from sklearn.neighbors import KNeighborsRegressor\n",
        "from sklearn.model_selection import GridSearchCV\n",
        "from sklearn.metrics import mean_squared_error\n",
        "import imblearn"
      ],
      "execution_count": null,
      "outputs": []
    },
    {
      "cell_type": "markdown",
      "metadata": {
        "id": "KcTG1tXbWnhi"
      },
      "source": [
        "Função para encontrar o melhor valor de K."
      ]
    },
    {
      "cell_type": "code",
      "metadata": {
        "id": "rm-i9HsOVTYK"
      },
      "source": [
        "# regressão linear\n",
        "pipeline = Pipeline(\n",
        "    [\n",
        "     ('selector',SelectKBest(f_regression)),\n",
        "     ('model',KNeighborsClassifier())\n",
        "    ]\n",
        ")\n",
        "\n",
        "# grid search\n",
        "search = GridSearchCV(\n",
        "    estimator = pipeline,\n",
        "    param_grid = {'selector__k':[3,5,7,9,11,13,15,17,19,21,23,25,27,29,31,33,35,37,39,41,43,45,47,49,51,53,55,57,59,61,63,65,67,69,71,73,75,79,81]},\n",
        "    n_jobs=-1,\n",
        "    scoring=\"neg_mean_squared_error\",\n",
        "    cv=5,\n",
        "    verbose=3\n",
        ")"
      ],
      "execution_count": null,
      "outputs": []
    },
    {
      "cell_type": "code",
      "metadata": {
        "colab": {
          "base_uri": "https://localhost:8080/"
        },
        "id": "BB9oBk6UWNDC",
        "outputId": "454db66b-b562-487c-dd47-cd51ba0c8126"
      },
      "source": [
        "search.fit(Xpca, ypca)\n",
        "\n",
        "search.best_score_\n",
        "\n",
        "search.best_params_\n",
        "# resultado: k = 9\n",
        "#k = 3"
      ],
      "execution_count": null,
      "outputs": [
        {
          "output_type": "stream",
          "text": [
            "Fitting 5 folds for each of 39 candidates, totalling 195 fits\n"
          ],
          "name": "stdout"
        },
        {
          "output_type": "stream",
          "text": [
            "[Parallel(n_jobs=-1)]: Using backend LokyBackend with 2 concurrent workers.\n",
            "[Parallel(n_jobs=-1)]: Done  72 tasks      | elapsed:    1.6s\n",
            "[Parallel(n_jobs=-1)]: Done 192 out of 195 | elapsed:    1.9s remaining:    0.0s\n",
            "[Parallel(n_jobs=-1)]: Done 195 out of 195 | elapsed:    1.9s finished\n"
          ],
          "name": "stderr"
        },
        {
          "output_type": "execute_result",
          "data": {
            "text/plain": [
              "{'selector__k': 3}"
            ]
          },
          "metadata": {
            "tags": []
          },
          "execution_count": 115
        }
      ]
    },
    {
      "cell_type": "markdown",
      "metadata": {
        "id": "mByUQvorXfpM"
      },
      "source": [
        "#### 2.2.2 Encontrando a melhor métrica"
      ]
    },
    {
      "cell_type": "code",
      "metadata": {
        "colab": {
          "base_uri": "https://localhost:8080/"
        },
        "id": "NqSVGw8wXe6Y",
        "outputId": "3ef06e14-6b1a-4d89-992d-97a0f4bf0358"
      },
      "source": [
        "knn = KNeighborsClassifier()\n",
        "knn.fit(Xpca_train, ypca_train)\n",
        "\n",
        "print('Train Score', knn.score(Xpca_train, ypca_train))\n",
        "print('Test Score', knn.score(Xpca_test, ypca_test))"
      ],
      "execution_count": null,
      "outputs": [
        {
          "output_type": "stream",
          "text": [
            "Train Score 0.98224043715847\n",
            "Test Score 0.9728260869565217\n"
          ],
          "name": "stdout"
        }
      ]
    },
    {
      "cell_type": "markdown",
      "metadata": {
        "id": "WvNbM74fZeNZ"
      },
      "source": [
        "Usando Grid Search"
      ]
    },
    {
      "cell_type": "code",
      "metadata": {
        "colab": {
          "base_uri": "https://localhost:8080/"
        },
        "id": "yPu49NLlZiYe",
        "outputId": "e11d073a-d03a-442c-b45c-15d2dd2f6214"
      },
      "source": [
        "from sklearn.model_selection import GridSearchCV\n",
        "\n",
        "grid_params = {\n",
        "    #'n_neighbors': [3,5,11,19,21,23,27,29,31,33,35,37,39,41,53,55,59,61,63,65]\n",
        "    'weights': ['uniform', 'distance'],\n",
        "    'metric': ['euclidean', 'manhattan', 'minkowski']\n",
        "}\n",
        "\n",
        "gs = GridSearchCV(\n",
        "    KNeighborsClassifier(n_neighbors=3),\n",
        "    grid_params,\n",
        "    verbose = 1,\n",
        "    cv = 5,\n",
        "    n_jobs = -1\n",
        ")\n",
        "gs_results = gs.fit(Xpca_train, ypca_train)"
      ],
      "execution_count": null,
      "outputs": [
        {
          "output_type": "stream",
          "text": [
            "Fitting 5 folds for each of 6 candidates, totalling 30 fits\n"
          ],
          "name": "stdout"
        },
        {
          "output_type": "stream",
          "text": [
            "[Parallel(n_jobs=-1)]: Using backend LokyBackend with 2 concurrent workers.\n",
            "[Parallel(n_jobs=-1)]: Done  30 out of  30 | elapsed:    0.2s finished\n"
          ],
          "name": "stderr"
        }
      ]
    },
    {
      "cell_type": "code",
      "metadata": {
        "colab": {
          "base_uri": "https://localhost:8080/"
        },
        "id": "l9ZcspeNZu3p",
        "outputId": "263d2122-1410-41c8-b426-462164a5b88b"
      },
      "source": [
        "gs_results.best_score_\n",
        "gs_results.best_estimator_\n",
        "gs_results.best_params_\n",
        "#{'metric': 'euclidean', 'n_neighbors': 3, 'weights': 'distance'} -> standadrd\n",
        "#{'metric': 'manhattan', 'weights': 'uniform'} - > pca"
      ],
      "execution_count": null,
      "outputs": [
        {
          "output_type": "execute_result",
          "data": {
            "text/plain": [
              "{'metric': 'manhattan', 'weights': 'distance'}"
            ]
          },
          "metadata": {
            "tags": []
          },
          "execution_count": 118
        }
      ]
    },
    {
      "cell_type": "markdown",
      "metadata": {
        "id": "H9cpBTF3OKpv"
      },
      "source": [
        "# 3. Análise comparativa entre os classificadores"
      ]
    },
    {
      "cell_type": "markdown",
      "metadata": {
        "id": "AQbZGWpeQteR"
      },
      "source": [
        "Através de testes, foi constatado que o desempenho dos classficadores melhoraram, mesmo que pouco, ao aplicar a normalização e o balanceamento."
      ]
    },
    {
      "cell_type": "markdown",
      "metadata": {
        "id": "8GxnAG4qatJF"
      },
      "source": [
        "Agora, vamos verificar se aplicando o PCA melhora a acurácia do knn ou piora."
      ]
    },
    {
      "cell_type": "markdown",
      "metadata": {
        "id": "jFKHPYH9cMZz"
      },
      "source": [
        "Acurácia do KNN melhorado, sem o PCA (nos dados normalizados e balanceados)"
      ]
    },
    {
      "cell_type": "code",
      "metadata": {
        "id": "yVCkJYZcc0DL"
      },
      "source": [
        "import warnings\n",
        "warnings.filterwarnings('ignore')"
      ],
      "execution_count": null,
      "outputs": []
    },
    {
      "cell_type": "code",
      "metadata": {
        "id": "37SiCYVicjgH"
      },
      "source": [
        "from sklearn.model_selection import cross_val_score"
      ],
      "execution_count": null,
      "outputs": []
    },
    {
      "cell_type": "code",
      "metadata": {
        "id": "d2YaRekPOAL-",
        "colab": {
          "base_uri": "https://localhost:8080/"
        },
        "outputId": "ea2aad33-6dbb-4c08-99d9-cb6c5f341653"
      },
      "source": [
        "model = KNeighborsClassifier(n_neighbors=3, metric='manhattan') #\n",
        "scores = cross_val_score(model, Xcc, y_classe, cv = 10, scoring = 'accuracy')\n",
        "scores"
      ],
      "execution_count": null,
      "outputs": [
        {
          "output_type": "execute_result",
          "data": {
            "text/plain": [
              "array([0.94565217, 1.        , 0.9673913 , 0.93478261, 0.98913043,\n",
              "       0.97826087, 1.        , 1.        , 0.98901099, 1.        ])"
            ]
          },
          "metadata": {
            "tags": []
          },
          "execution_count": 132
        }
      ]
    },
    {
      "cell_type": "code",
      "metadata": {
        "colab": {
          "base_uri": "https://localhost:8080/"
        },
        "id": "CoBbF3Vsc_Vz",
        "outputId": "28b0d4e0-1f1e-4db4-e78e-c75e895ae2f8"
      },
      "source": [
        "print(\"Accuracy: %.2f%%\" % (scores.mean() * 100.0))"
      ],
      "execution_count": null,
      "outputs": [
        {
          "output_type": "stream",
          "text": [
            "Accuracy: 98.04%\n"
          ],
          "name": "stdout"
        }
      ]
    },
    {
      "cell_type": "markdown",
      "metadata": {
        "id": "3PsimynudBeX"
      },
      "source": [
        "Acurácia do KNN melhorado utilizando PCA (nos dados normalizados e balanceados)"
      ]
    },
    {
      "cell_type": "code",
      "metadata": {
        "colab": {
          "base_uri": "https://localhost:8080/"
        },
        "id": "yYdn3ne0dA90",
        "outputId": "8a5c1395-fe9e-4e9f-e322-a0ce3893f664"
      },
      "source": [
        "model = KNeighborsClassifier(n_neighbors=3, metric='manhattan')\n",
        "scorespca = cross_val_score(model, Xpca, ypca, cv = 10, scoring = 'accuracy')\n",
        "scorespca"
      ],
      "execution_count": null,
      "outputs": [
        {
          "output_type": "execute_result",
          "data": {
            "text/plain": [
              "array([0.94565217, 0.98913043, 0.9673913 , 0.94565217, 0.98913043,\n",
              "       0.98913043, 1.        , 1.        , 0.98901099, 0.97802198])"
            ]
          },
          "metadata": {
            "tags": []
          },
          "execution_count": 135
        }
      ]
    },
    {
      "cell_type": "code",
      "metadata": {
        "colab": {
          "base_uri": "https://localhost:8080/"
        },
        "id": "WogI3_AWdJ-v",
        "outputId": "a5ca7b9b-9697-4165-f7ec-7d445fb47bed"
      },
      "source": [
        "print(\"Accuracy: %.2f%%\" % (scorespca.mean() * 100.0))"
      ],
      "execution_count": null,
      "outputs": [
        {
          "output_type": "stream",
          "text": [
            "Accuracy: 97.93%\n"
          ],
          "name": "stdout"
        }
      ]
    },
    {
      "cell_type": "markdown",
      "metadata": {
        "id": "h8xg4fpmQ9D9"
      },
      "source": [
        "Pode-se observar que a utilização do PCA piorou a acurácia, mesmo que pouco. Desse modo, optamos por não utilizá-lo nos testes de hipótese pra ver qual knn (padrão ou melhorado) é melhor."
      ]
    },
    {
      "cell_type": "markdown",
      "metadata": {
        "id": "GsJuUHxARKbT"
      },
      "source": [
        "## Hipótese nula e Métodos estatísticos"
      ]
    },
    {
      "cell_type": "markdown",
      "metadata": {
        "id": "abeu0eVARYZg"
      },
      "source": [
        "H0 -> usar o knn melhorado não altera a acurácia em relação ao knn padrão\n",
        "\n",
        "H1 -> usar o knn melhorado melhora a acurácia em relação ao knn padrão"
      ]
    },
    {
      "cell_type": "markdown",
      "metadata": {
        "id": "UZDX0HrHRb4I"
      },
      "source": [
        "Acurácia Knn Default = 95,71%\n",
        "\n",
        "Acurácia Knn Melhorado = 98,04%"
      ]
    },
    {
      "cell_type": "code",
      "metadata": {
        "colab": {
          "base_uri": "https://localhost:8080/"
        },
        "id": "YtDjS8OZNuIS",
        "outputId": "58a8b08c-4a75-488b-e976-57ca42bbb4a2"
      },
      "source": [
        "knn_default = 0.9571\n",
        "knn_melhorado = 0.9804\n",
        "\n",
        "print(knn_melhorado - knn_default)"
      ],
      "execution_count": null,
      "outputs": [
        {
          "output_type": "stream",
          "text": [
            "0.0233000000000001\n"
          ],
          "name": "stdout"
        }
      ]
    },
    {
      "cell_type": "markdown",
      "metadata": {
        "id": "f561pbBXSg5c"
      },
      "source": [
        "Fazendo a diferença entre as acurácias, observa-se que a diferença foi de 2,33%. Isso comprova que a hipótese nula é falsa, pois ela diz que usar o knn melhorado não altera a acurácia em relação ao knn padrão, sendo que altera.\n",
        "\n",
        "Além disso, como a diferença foi de 0.023, percebe-se que o a acurácia do knn melhorado é 2,33% maior que a do knn padrão, confirmando a hipótese alternativa que diz que usar o knn melhorado melhora a acurácia em relação ao knn padrão."
      ]
    }
  ]
}